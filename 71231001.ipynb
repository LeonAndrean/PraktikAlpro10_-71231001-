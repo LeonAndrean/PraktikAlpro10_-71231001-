{
 "cells": [
  {
   "cell_type": "code",
   "execution_count": 16,
   "metadata": {},
   "outputs": [
    {
     "name": "stdout",
     "output_type": "stream",
     "text": [
      "key      value     item  \n",
      "1        10        1\n",
      "2        20        2\n",
      "3        30        3\n",
      "4        40        4\n",
      "5        50        5\n",
      "6        60        6\n"
     ]
    }
   ],
   "source": [
    "# Bualah sebuah program untuk mendapatkan nilai key, value, dan item dari sebuah dictionary.\n",
    "# Contoh: Dictionary : {1: 10, 2: 20, 3: 30, 4: 40, 5: 50, 6: 60}\n",
    "kamus = {1: 10, 2: 20, 3: 30, 4: 40, 5: 50, 6: 60}\n",
    "keys = list(kamus.keys())\n",
    "values = list(kamus.values())\n",
    "nilai = 1\n",
    "print(\"key  \", \"   value  \", \"  item  \")\n",
    "for i in range(0, len(kamus)):\n",
    "    print( keys[i],\"      \",values[i],\"      \", nilai) \n",
    "    nilai = nilai + 1"
   ]
  },
  {
   "cell_type": "code",
   "execution_count": 17,
   "metadata": {},
   "outputs": [
    {
     "name": "stdout",
     "output_type": "stream",
     "text": [
      "{'red': '#FF0000', 'green': '#008000', 'blue': '#0000FF'}\n"
     ]
    }
   ],
   "source": [
    "#Bualah sebuah program untuk memetakan dua list mejadi satu dictionary.\n",
    "lista = [\"red\", \"green\", \"blue\"]\n",
    "listb = ['#FF0000','#008000', '#0000FF']\n",
    "kamus = dict()\n",
    "for i in range(len(lista)):\n",
    "    kamus[lista[i]] = listb[i]\n",
    "print(kamus)"
   ]
  },
  {
   "cell_type": "code",
   "execution_count": 19,
   "metadata": {},
   "outputs": [
    {
     "name": "stdout",
     "output_type": "stream",
     "text": [
      "{'stephen.marquard@uct.ac.za': 2, 'louis@media.berkeley.edu': 3, 'zqian@umich.edu': 4, 'rjlowe@iupui.edu': 2, 'cwen@iupui.edu': 5, 'gsilver@umich.edu': 3, 'wagnermr@iupui.edu': 1, 'antranig@caret.cam.ac.uk': 1, 'gopal.ramasammycook@gmail.com': 1, 'david.horwitz@uct.ac.za': 4, 'ray@media.berkeley.edu': 1}\n"
     ]
    }
   ],
   "source": [
    "# Dengan menggunakan file mbox-short.txt, buatlah program yang dapat membaca log email dan sajikan dalam histogram\n",
    "# menggunakan dictionary. Kemudian hitung berapa banyak pesan yang masuk dari email dan sajikan dalam bentuk dictionary.\n",
    "# Silakan cek bagian dibawah ini untuk contoh output dari programnya.\n",
    "kamus = dict()\n",
    "namafile = input(\"Masukkan nama file : \")\n",
    "try:\n",
    "    with open(namafile) as handle:\n",
    "        for line in handle:\n",
    "            kata = line.split()\n",
    "            if len(kata) < 2 or kata[0] != 'From':\n",
    "                continue\n",
    "            else:\n",
    "                kamus[kata[1]] = 1 +  kamus.get(kata[1], 0)  \n",
    "except FileNotFoundError:\n",
    "    print('Kamu salah ketik nama file:', namafile)\n",
    "    exit()\n",
    "print(kamus)"
   ]
  },
  {
   "cell_type": "code",
   "execution_count": 20,
   "metadata": {},
   "outputs": [
    {
     "name": "stdout",
     "output_type": "stream",
     "text": [
      "{'uct.ac.za': 6, 'media.berkeley.edu': 4, 'umich.edu': 7, 'iupui.edu': 8, 'caret.cam.ac.uk': 1, 'gmail.com': 1}\n"
     ]
    }
   ],
   "source": [
    "# Dengan menggunakan file mbox-short.txt, buat program untuk mencatat data nama domain pengirim pesan.\n",
    "# Hitunglah jumlah pesan yang dikirim masing-masing domain. sajikan dalam bentuk dictionary.\n",
    "from collections import defaultdict\n",
    "def hitung_domain():\n",
    "    nama_file = input(\"Masukkan nama file: \")\n",
    "    hitung_domain = defaultdict(int)\n",
    "    try:\n",
    "        with open(nama_file, 'r') as file:\n",
    "            for line in file:\n",
    "                if line.startswith(\"From:\"):\n",
    "                    kata_kunci = line.split()\n",
    "                    alamat_email = kata_kunci[1]\n",
    "                    username, domain = alamat_email.split('@')\n",
    "                    hitung_domain[domain] += 1\n",
    "        return hitung_domain\n",
    "\n",
    "    except FileNotFoundError:\n",
    "        print(\"File tidak ditemukan:\", nama_file)\n",
    "        return None\n",
    "    \n",
    "hasil_hitung = hitung_domain()\n",
    "if hasil_hitung:\n",
    "    hasil_hitung = dict(hasil_hitung)\n",
    "    print(hasil_hitung)"
   ]
  }
 ],
 "metadata": {
  "kernelspec": {
   "display_name": "Python 3",
   "language": "python",
   "name": "python3"
  },
  "language_info": {
   "codemirror_mode": {
    "name": "ipython",
    "version": 3
   },
   "file_extension": ".py",
   "mimetype": "text/x-python",
   "name": "python",
   "nbconvert_exporter": "python",
   "pygments_lexer": "ipython3",
   "version": "3.11.4"
  }
 },
 "nbformat": 4,
 "nbformat_minor": 2
}
